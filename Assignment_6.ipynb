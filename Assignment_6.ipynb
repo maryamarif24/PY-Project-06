{
  "nbformat": 4,
  "nbformat_minor": 0,
  "metadata": {
    "colab": {
      "provenance": [],
      "authorship_tag": "ABX9TyOMzbJoh+lbB11tPUGnP2Vz",
      "include_colab_link": true
    },
    "kernelspec": {
      "name": "python3",
      "display_name": "Python 3"
    },
    "language_info": {
      "name": "python"
    }
  },
  "cells": [
    {
      "cell_type": "markdown",
      "metadata": {
        "id": "view-in-github",
        "colab_type": "text"
      },
      "source": [
        "<a href=\"https://colab.research.google.com/github/maryamarif24/PY-Project-06/blob/main/Assignment_6.ipynb\" target=\"_parent\"><img src=\"https://colab.research.google.com/assets/colab-badge.svg\" alt=\"Open In Colab\"/></a>"
      ]
    },
    {
      "cell_type": "markdown",
      "source": [
        "#**1. Using self**"
      ],
      "metadata": {
        "id": "J2lESosz-Gsu"
      }
    },
    {
      "cell_type": "code",
      "execution_count": null,
      "metadata": {
        "colab": {
          "base_uri": "https://localhost:8080/"
        },
        "id": "nzHOOyL9-FNO",
        "outputId": "e83df796-4bde-4c3a-dfae-4c46536a2e9f"
      },
      "outputs": [
        {
          "output_type": "stream",
          "name": "stdout",
          "text": [
            "Name: Alice\n",
            "Marks: 85\n"
          ]
        }
      ],
      "source": [
        "class Students:\n",
        "  def __init__(self, name, marks):\n",
        "    self.name = name\n",
        "    self.marks = marks\n",
        "\n",
        "  def display(self):\n",
        "    print(\"Name:\", self.name)\n",
        "    print(\"Marks:\", self.marks)\n",
        "\n",
        "student1 = Students(\"Alice\", 85)\n",
        "student1.display()"
      ]
    },
    {
      "cell_type": "markdown",
      "source": [
        "---\n",
        "---\n",
        "#**2. Using cls**"
      ],
      "metadata": {
        "id": "iAxMZVdG_Suy"
      }
    },
    {
      "cell_type": "code",
      "source": [
        "class Counter:\n",
        "  count = 0\n",
        "\n",
        "  def __init__(self):\n",
        "    Counter.count += 1\n",
        "\n",
        "  @classmethod\n",
        "  def get_count(cls):\n",
        "    return cls.count\n",
        "\n",
        "counter1 = Counter()\n",
        "counter2 = Counter()\n",
        "print(Counter.get_count())"
      ],
      "metadata": {
        "colab": {
          "base_uri": "https://localhost:8080/"
        },
        "id": "NkHFitQJ_bR1",
        "outputId": "dc5fb8a3-e43e-439f-fc09-2c8e5edb3c42"
      },
      "execution_count": null,
      "outputs": [
        {
          "output_type": "stream",
          "name": "stdout",
          "text": [
            "2\n"
          ]
        }
      ]
    },
    {
      "cell_type": "markdown",
      "source": [
        "---\n",
        "---\n",
        "#**3. Public Variables and Methods**"
      ],
      "metadata": {
        "id": "OE5o4Fxc_72m"
      }
    },
    {
      "cell_type": "code",
      "source": [
        "class Car:\n",
        "  def __init__(self, brand):\n",
        "    self.brand = brand\n",
        "\n",
        "  def start(self):\n",
        "    print(f\"The {self.brand} car has started.\")\n",
        "\n",
        "my_car = Car(\"Toyota\")\n",
        "print(my_car.brand)\n",
        "my_car.start()"
      ],
      "metadata": {
        "colab": {
          "base_uri": "https://localhost:8080/"
        },
        "id": "0gRpTXHO_7Gd",
        "outputId": "d30fa72d-5681-4fbf-ff44-f632edf5d828"
      },
      "execution_count": null,
      "outputs": [
        {
          "output_type": "stream",
          "name": "stdout",
          "text": [
            "Toyota\n",
            "The Toyota car has started.\n"
          ]
        }
      ]
    },
    {
      "cell_type": "markdown",
      "source": [
        "---\n",
        "---\n",
        "#**Class Variables and Class Methods**"
      ],
      "metadata": {
        "id": "yNSLAHJZAe7A"
      }
    },
    {
      "cell_type": "code",
      "source": [
        "class Bank:\n",
        "    bank_name = \"Habib Bank\"\n",
        "\n",
        "    @classmethod\n",
        "    def change_bank_name(cls, name):\n",
        "        cls.bank_name = name\n",
        "\n",
        "bank = Bank()\n",
        "\n",
        "print(f\"Initial Bank name: {bank.bank_name}\")\n",
        "\n",
        "Bank.change_bank_name(\"Meezan Bank\")\n",
        "\n",
        "print(f\"Final Bank name: {bank.bank_name}\")"
      ],
      "metadata": {
        "colab": {
          "base_uri": "https://localhost:8080/"
        },
        "id": "jLz4v3j6AkQP",
        "outputId": "74f7604f-f710-4917-9601-df28395482ec"
      },
      "execution_count": null,
      "outputs": [
        {
          "output_type": "stream",
          "name": "stdout",
          "text": [
            "Initial Bank name: Habib Bank\n",
            "Final Bank name: Meezan Bank\n"
          ]
        }
      ]
    },
    {
      "cell_type": "markdown",
      "source": [
        "---\n",
        "---\n",
        "#**5. Static Variables and Static Method**"
      ],
      "metadata": {
        "id": "zsZViEreDnwD"
      }
    },
    {
      "cell_type": "code",
      "source": [
        "class MathUtils:\n",
        "  @staticmethod\n",
        "  def add(a, b):\n",
        "    return a + b\n",
        "\n",
        "print(MathUtils.add(5, 3))"
      ],
      "metadata": {
        "colab": {
          "base_uri": "https://localhost:8080/"
        },
        "id": "07Z2Uk_XDtq_",
        "outputId": "e78ce0bb-f859-43f4-cd97-b4f31cdcb0c5"
      },
      "execution_count": null,
      "outputs": [
        {
          "output_type": "stream",
          "name": "stdout",
          "text": [
            "8\n"
          ]
        }
      ]
    },
    {
      "cell_type": "markdown",
      "source": [
        "---\n",
        "---\n",
        "#**Constructors and Destructors**"
      ],
      "metadata": {
        "id": "6EM0GFThEBZ0"
      }
    },
    {
      "cell_type": "code",
      "source": [
        "class Logger:\n",
        "    def __init__(self, message):\n",
        "        self.message = message\n",
        "        print(f\"Logger created: {self.message}\")\n",
        "\n",
        "    def __del__(self):\n",
        "        print(f\"Logger destroyed: {self.message}\")\n",
        "\n",
        "logger1 = Logger(\"This is logger 1\")\n",
        "logger2 = Logger(\"This is logger 2\")\n",
        "\n",
        "del logger1"
      ],
      "metadata": {
        "colab": {
          "base_uri": "https://localhost:8080/"
        },
        "id": "iAOKAz9hEHIl",
        "outputId": "fd44e73a-0c2e-48bb-dc67-d9f69d2d024e"
      },
      "execution_count": null,
      "outputs": [
        {
          "output_type": "stream",
          "name": "stdout",
          "text": [
            "Logger created: This is logger 1\n",
            "Logger created: This is logger 2\n",
            "Logger destroyed: This is logger 1\n"
          ]
        }
      ]
    },
    {
      "cell_type": "markdown",
      "source": [
        "---\n",
        "---\n",
        "#**7. Access Modifiers: Public, Private and Protected**"
      ],
      "metadata": {
        "id": "el3CzPnwEsnT"
      }
    },
    {
      "cell_type": "code",
      "source": [
        "class Employee:\n",
        "  def __init__(self, name, _salary, __ssn):\n",
        "    self.name = name\n",
        "    self._salary = _salary\n",
        "    self.__ssn = __ssn\n",
        "\n",
        "emp = Employee(\"Alice\", 50000, \"123-45-6789\")\n",
        "\n",
        "print(emp.name)\n",
        "print(emp._salary)\n",
        "print(emp._Employee__ssn)"
      ],
      "metadata": {
        "colab": {
          "base_uri": "https://localhost:8080/"
        },
        "id": "XONPb9xLE0ZK",
        "outputId": "38e05d21-2ef6-49ce-bac5-4ed5697ee59d"
      },
      "execution_count": null,
      "outputs": [
        {
          "output_type": "stream",
          "name": "stdout",
          "text": [
            "Alice\n",
            "50000\n",
            "123-45-6789\n",
            "Alice\n",
            "50000\n",
            "123-45-6789\n"
          ]
        }
      ]
    },
    {
      "cell_type": "markdown",
      "source": [
        "---\n",
        "---\n",
        "#**8. The super() function**"
      ],
      "metadata": {
        "id": "ZwcKBus1O0cG"
      }
    },
    {
      "cell_type": "code",
      "source": [
        "class Person:\n",
        "  def __init__(self, name):\n",
        "    self.name = name\n",
        "\n",
        "class Teacher(Person):\n",
        "  def __init__(self, name, subject):\n",
        "    super().__init__(name)\n",
        "    self.subject = subject\n",
        "\n",
        "teacher = Teacher(\"Bob\", \"Math\")\n",
        "print(teacher.name)\n",
        "print(teacher.subject)"
      ],
      "metadata": {
        "colab": {
          "base_uri": "https://localhost:8080/"
        },
        "id": "wTY_ZjWqO-d9",
        "outputId": "b0da1426-e2ea-4bb0-e049-4bcfe40710a4"
      },
      "execution_count": null,
      "outputs": [
        {
          "output_type": "stream",
          "name": "stdout",
          "text": [
            "Bob\n",
            "Math\n"
          ]
        }
      ]
    },
    {
      "cell_type": "markdown",
      "source": [
        "---\n",
        "---\n",
        "#**9. Abstract Classes and Methods**"
      ],
      "metadata": {
        "id": "xdnOfNuZPXL1"
      }
    },
    {
      "cell_type": "code",
      "source": [
        "from abc import ABC, abstractmethod\n",
        "import math\n",
        "\n",
        "class Shape(ABC):\n",
        "    @abstractmethod\n",
        "    def area(self):\n",
        "        pass\n",
        "\n",
        "class Rectangle(Shape):\n",
        "    def __init__(self, width, height):\n",
        "        self.width = width\n",
        "        self.height = height\n",
        "\n",
        "    def area(self):\n",
        "        return self.width * self.height\n",
        "\n",
        "class Circle(Shape):\n",
        "    def __init__(self, radius):\n",
        "        self.radius = radius\n",
        "\n",
        "    def area(self):\n",
        "        return math.pi * self.radius * self.radius\n",
        "\n",
        "\n",
        "rectangle = Rectangle(5, 10)\n",
        "print(\"Rectangle area:\", rectangle.area())\n",
        "\n",
        "circle = Circle(7)\n",
        "print(\"Circle area:\", circle.area())\n"
      ],
      "metadata": {
        "colab": {
          "base_uri": "https://localhost:8080/"
        },
        "id": "0Zi8CXvgPZTs",
        "outputId": "461209f9-9e8f-4e05-ce4f-19717581c4f2"
      },
      "execution_count": null,
      "outputs": [
        {
          "output_type": "stream",
          "name": "stdout",
          "text": [
            "Rectangle area: 50\n",
            "Circle area: 153.93804002589985\n"
          ]
        }
      ]
    },
    {
      "cell_type": "markdown",
      "source": [
        "---\n",
        "---\n",
        "#**10. Instance Methods**"
      ],
      "metadata": {
        "id": "sIrhgvFRPpEb"
      }
    },
    {
      "cell_type": "code",
      "source": [
        "class Dog:\n",
        "  def __init__(self, name, breed):\n",
        "    self.name = name\n",
        "    self.breed = breed\n",
        "\n",
        "  def bark(self):\n",
        "    print(f\"{self.name} is barking!\")\n",
        "\n",
        "my_dog = Dog(\"Buddy\", \"Golden Retriever\")\n",
        "my_dog.bark()"
      ],
      "metadata": {
        "colab": {
          "base_uri": "https://localhost:8080/"
        },
        "id": "99_CDYi6PtY-",
        "outputId": "1a4abdf1-0c15-4bd3-884d-968d8a93da3f"
      },
      "execution_count": null,
      "outputs": [
        {
          "output_type": "stream",
          "name": "stdout",
          "text": [
            "Buddy is barking!\n"
          ]
        }
      ]
    },
    {
      "cell_type": "markdown",
      "source": [
        "---\n",
        "---\n",
        "#**11. Class Methods**"
      ],
      "metadata": {
        "id": "-1qm_sp9QDlf"
      }
    },
    {
      "cell_type": "code",
      "source": [
        "class Book:\n",
        "    total_books = 0\n",
        "\n",
        "    def __init__(self, title):\n",
        "        self.title = title\n",
        "        Book.increment_book_count()\n",
        "\n",
        "    @classmethod\n",
        "    def increment_book_count(cls):\n",
        "        cls.total_books += 1\n",
        "\n",
        "book1 = Book(\"Python Basics\")\n",
        "book2 = Book(\"OOP Concepts\")\n",
        "\n",
        "print(\"Total books:\", Book.total_books)"
      ],
      "metadata": {
        "colab": {
          "base_uri": "https://localhost:8080/"
        },
        "id": "ZYf-vv-sEXJC",
        "outputId": "989a7eab-e2f8-49f0-e001-b2e69334bd03"
      },
      "execution_count": 1,
      "outputs": [
        {
          "output_type": "stream",
          "name": "stdout",
          "text": [
            "Total books: 2\n"
          ]
        }
      ]
    },
    {
      "cell_type": "markdown",
      "source": [
        "---\n",
        "---\n",
        "#**12. Static Methods**"
      ],
      "metadata": {
        "id": "JymUmraFEYmv"
      }
    },
    {
      "cell_type": "code",
      "source": [
        "class TemperatureConverter:\n",
        "    @staticmethod\n",
        "    def celsius_to_fahrenheit(c):\n",
        "        return (c * 9/5) + 32\n",
        "\n",
        "print(TemperatureConverter.celsius_to_fahrenheit(0))\n",
        "print(TemperatureConverter.celsius_to_fahrenheit(100))"
      ],
      "metadata": {
        "colab": {
          "base_uri": "https://localhost:8080/"
        },
        "id": "erTzgpbpEhgE",
        "outputId": "7b574d3b-e2e9-4eb4-97e2-92096391e020"
      },
      "execution_count": 2,
      "outputs": [
        {
          "output_type": "stream",
          "name": "stdout",
          "text": [
            "32.0\n",
            "212.0\n"
          ]
        }
      ]
    },
    {
      "cell_type": "markdown",
      "source": [
        "---\n",
        "---\n",
        "#**13. Composition**"
      ],
      "metadata": {
        "id": "wQqtJAFhEjw_"
      }
    },
    {
      "cell_type": "code",
      "source": [
        "class Engine:\n",
        "    def start(self):\n",
        "        return \"Engine started\"\n",
        "\n",
        "class Car:\n",
        "    def __init__(self, engine):\n",
        "        self.engine = engine\n",
        "\n",
        "    def start_car(self):\n",
        "        return self.engine.start()\n",
        "\n",
        "e = Engine()\n",
        "my_car = Car(e)\n",
        "print(my_car.start_car())"
      ],
      "metadata": {
        "colab": {
          "base_uri": "https://localhost:8080/"
        },
        "id": "YjLpDwWZEy5N",
        "outputId": "02cb682c-79a6-499c-ce4f-54f386672145"
      },
      "execution_count": 3,
      "outputs": [
        {
          "output_type": "stream",
          "name": "stdout",
          "text": [
            "Engine started\n"
          ]
        }
      ]
    },
    {
      "cell_type": "markdown",
      "source": [
        "---\n",
        "---\n",
        "#**14. Aggregation**"
      ],
      "metadata": {
        "id": "27VTf2e_E1fh"
      }
    },
    {
      "cell_type": "code",
      "source": [
        "class Employee:\n",
        "    def __init__(self, name):\n",
        "        self.name = name\n",
        "\n",
        "class Department:\n",
        "    def __init__(self, dept_name, employee):\n",
        "        self.dept_name = dept_name\n",
        "        self.employee = employee\n",
        "\n",
        "e = Employee(\"Alice\")\n",
        "d = Department(\"HR\", e)\n",
        "print(d.employee.name)"
      ],
      "metadata": {
        "colab": {
          "base_uri": "https://localhost:8080/"
        },
        "id": "Uqn3Vmz8E4fH",
        "outputId": "9fb91879-f086-487e-91a0-c581d0a74219"
      },
      "execution_count": 4,
      "outputs": [
        {
          "output_type": "stream",
          "name": "stdout",
          "text": [
            "Alice\n"
          ]
        }
      ]
    },
    {
      "cell_type": "markdown",
      "source": [
        "---\n",
        "---\n",
        "#**15. Method Resolution Order (MRO) and Diamond Inheritance**"
      ],
      "metadata": {
        "id": "19FOb8ItFdn1"
      }
    },
    {
      "cell_type": "code",
      "source": [
        "class A:\n",
        "    def show(self):\n",
        "        print(\"A's show\")\n",
        "\n",
        "class B(A):\n",
        "    def show(self):\n",
        "        print(\"B's show\")\n",
        "\n",
        "class C(A):\n",
        "    def show(self):\n",
        "        print(\"C's show\")\n",
        "\n",
        "class D(B, C):\n",
        "    pass\n",
        "\n",
        "d = D()\n",
        "d.show()\n",
        "print(D.__mro__)"
      ],
      "metadata": {
        "colab": {
          "base_uri": "https://localhost:8080/"
        },
        "id": "mS2Reg_PFbuZ",
        "outputId": "92deb639-c846-4bb5-a0ab-af020b941a33"
      },
      "execution_count": 5,
      "outputs": [
        {
          "output_type": "stream",
          "name": "stdout",
          "text": [
            "B's show\n",
            "(<class '__main__.D'>, <class '__main__.B'>, <class '__main__.C'>, <class '__main__.A'>, <class 'object'>)\n"
          ]
        }
      ]
    },
    {
      "cell_type": "markdown",
      "source": [
        "---\n",
        "---\n",
        "#**16. Function Decorators**"
      ],
      "metadata": {
        "id": "Eg0_8m_sFi5m"
      }
    },
    {
      "cell_type": "code",
      "source": [
        "def log_function_call(func):\n",
        "    def wrapper():\n",
        "        print(\"Function is being called\")\n",
        "        return func()\n",
        "    return wrapper\n",
        "\n",
        "@log_function_call\n",
        "def say_hello():\n",
        "    print(\"Hello!\")\n",
        "\n",
        "say_hello()"
      ],
      "metadata": {
        "colab": {
          "base_uri": "https://localhost:8080/"
        },
        "id": "dJiWAVvnFmh1",
        "outputId": "5c643830-253c-4e90-ba8f-1e66a73ce112"
      },
      "execution_count": 6,
      "outputs": [
        {
          "output_type": "stream",
          "name": "stdout",
          "text": [
            "Function is being called\n",
            "Hello!\n"
          ]
        }
      ]
    },
    {
      "cell_type": "markdown",
      "source": [
        "---\n",
        "---\n",
        "#**17. Class Decorators**"
      ],
      "metadata": {
        "id": "VaKSiI1DFp4U"
      }
    },
    {
      "cell_type": "code",
      "source": [
        "def add_greeting(cls):\n",
        "    def greet(self):\n",
        "        return \"Hello from Decorator!\"\n",
        "    cls.greet = greet\n",
        "    return cls\n",
        "\n",
        "@add_greeting\n",
        "class Person:\n",
        "    def __init__(self, name):\n",
        "        self.name = name\n",
        "\n",
        "p = Person(\"Alice\")\n",
        "print(p.greet())"
      ],
      "metadata": {
        "colab": {
          "base_uri": "https://localhost:8080/"
        },
        "id": "NraMYugUFzuO",
        "outputId": "0a6aef92-44f8-4008-ec25-79c26cbee62c"
      },
      "execution_count": 7,
      "outputs": [
        {
          "output_type": "stream",
          "name": "stdout",
          "text": [
            "Hello from Decorator!\n"
          ]
        }
      ]
    },
    {
      "cell_type": "markdown",
      "source": [
        "---\n",
        "---\n",
        "#**18. Property Decorators**"
      ],
      "metadata": {
        "id": "wW65iXK2F2Ph"
      }
    },
    {
      "cell_type": "code",
      "source": [
        "class Product:\n",
        "    def __init__(self, price):\n",
        "        self._price = price\n",
        "\n",
        "    @property\n",
        "    def price(self):\n",
        "        return self._price\n",
        "\n",
        "    @price.setter\n",
        "    def price(self, value):\n",
        "        if value < 0:\n",
        "            raise ValueError(\"Price cannot be negative\")\n",
        "        self._price = value\n",
        "\n",
        "    @price.deleter\n",
        "    def price(self):\n",
        "        print(\"Deleting price...\")\n",
        "        del self._price\n",
        "\n",
        "product = Product(100)\n",
        "print(product.price)\n",
        "product.price = 150\n",
        "print(product.price)\n",
        "del product.price"
      ],
      "metadata": {
        "colab": {
          "base_uri": "https://localhost:8080/"
        },
        "id": "ZjpYcd9AF6jS",
        "outputId": "3a8db69e-b19c-4ed0-967b-ccaa396fc45a"
      },
      "execution_count": 8,
      "outputs": [
        {
          "output_type": "stream",
          "name": "stdout",
          "text": [
            "100\n",
            "150\n",
            "Deleting price...\n"
          ]
        }
      ]
    },
    {
      "cell_type": "markdown",
      "source": [
        "---\n",
        "---\n",
        "#**19. callable() and call()**"
      ],
      "metadata": {
        "id": "lkUaV6HqGF0n"
      }
    },
    {
      "cell_type": "code",
      "source": [
        "class Multiplier:\n",
        "    def __init__(self, factor):\n",
        "        self.factor = factor\n",
        "\n",
        "    def __call__(self, value):\n",
        "        return value * self.factor\n",
        "\n",
        "m = Multiplier(5)\n",
        "print(callable(m))\n",
        "print(m(10))"
      ],
      "metadata": {
        "colab": {
          "base_uri": "https://localhost:8080/"
        },
        "id": "UUWMcwZjGL2q",
        "outputId": "f3c0757b-e210-440f-909b-192c2ba78f27"
      },
      "execution_count": 9,
      "outputs": [
        {
          "output_type": "stream",
          "name": "stdout",
          "text": [
            "True\n",
            "50\n"
          ]
        }
      ]
    },
    {
      "cell_type": "markdown",
      "source": [
        "---\n",
        "---\n",
        "#**20. Creating a Custom Exception**"
      ],
      "metadata": {
        "id": "Kmyeo-ynGONZ"
      }
    },
    {
      "cell_type": "code",
      "source": [
        "class InvalidAgeError(Exception):\n",
        "    pass\n",
        "\n",
        "def check_age(age):\n",
        "    if age < 18:\n",
        "        raise InvalidAgeError(\"Age must be at least 18\")\n",
        "    print(\"Age is valid.\")\n",
        "\n",
        "try:\n",
        "    check_age(16)\n",
        "except InvalidAgeError as e:\n",
        "    print(\"Caught an exception:\", e)"
      ],
      "metadata": {
        "colab": {
          "base_uri": "https://localhost:8080/"
        },
        "id": "L77hemUTGTe7",
        "outputId": "9645325b-2826-4401-f3c5-6e76914aaac6"
      },
      "execution_count": 10,
      "outputs": [
        {
          "output_type": "stream",
          "name": "stdout",
          "text": [
            "Caught an exception: Age must be at least 18\n"
          ]
        }
      ]
    },
    {
      "cell_type": "markdown",
      "source": [
        "---\n",
        "---\n",
        "#**Make a Custom Class Iterable**"
      ],
      "metadata": {
        "id": "KHfYCHpTGV6A"
      }
    },
    {
      "cell_type": "code",
      "source": [
        "class Countdown:\n",
        "    def __init__(self, start):\n",
        "        self.current = start\n",
        "\n",
        "    def __iter__(self):\n",
        "        return self\n",
        "\n",
        "    def __next__(self):\n",
        "        if self.current < 0:\n",
        "            raise StopIteration\n",
        "        value = self.current\n",
        "        self.current -= 1\n",
        "        return value\n",
        "\n",
        "for number in Countdown(5):\n",
        "    print(number)"
      ],
      "metadata": {
        "colab": {
          "base_uri": "https://localhost:8080/"
        },
        "id": "O3TmItSgGZ64",
        "outputId": "53e19147-a7b2-42da-98cf-4580469a7077"
      },
      "execution_count": 11,
      "outputs": [
        {
          "output_type": "stream",
          "name": "stdout",
          "text": [
            "5\n",
            "4\n",
            "3\n",
            "2\n",
            "1\n",
            "0\n"
          ]
        }
      ]
    }
  ]
}